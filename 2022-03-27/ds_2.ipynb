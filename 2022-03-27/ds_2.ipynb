{
 "cells": [
  {
   "cell_type": "code",
   "execution_count": 1,
   "metadata": {},
   "outputs": [],
   "source": [
    "import pandas as pd\n",
    "import matplotlib.pyplot as plt\n",
    "import numpy as np\n",
    "import seaborn as sns\n",
    "from datetime import datetime\n",
    "from math import ceil"
   ]
  },
  {
   "cell_type": "markdown",
   "metadata": {},
   "source": [
    "## Load data"
   ]
  },
  {
   "cell_type": "code",
   "execution_count": 2,
   "metadata": {},
   "outputs": [],
   "source": [
    "train_data = pd.read_csv(r'../datasets/train_data.csv')\n",
    "validation_data = pd.read_csv(r'../datasets/validation_data.csv')\n",
    "test_data = pd.read_csv(r'../datasets/test_data.csv')"
   ]
  },
  {
   "cell_type": "code",
   "execution_count": 3,
   "metadata": {},
   "outputs": [
    {
     "data": {
      "text/html": [
       "<div>\n",
       "<style scoped>\n",
       "    .dataframe tbody tr th:only-of-type {\n",
       "        vertical-align: middle;\n",
       "    }\n",
       "\n",
       "    .dataframe tbody tr th {\n",
       "        vertical-align: top;\n",
       "    }\n",
       "\n",
       "    .dataframe thead th {\n",
       "        text-align: right;\n",
       "    }\n",
       "</style>\n",
       "<table border=\"1\" class=\"dataframe\">\n",
       "  <thead>\n",
       "    <tr style=\"text-align: right;\">\n",
       "      <th></th>\n",
       "      <th>CategoryCode</th>\n",
       "      <th>ItemCode</th>\n",
       "      <th>DateID</th>\n",
       "      <th>DailySales</th>\n",
       "    </tr>\n",
       "  </thead>\n",
       "  <tbody>\n",
       "    <tr>\n",
       "      <th>0</th>\n",
       "      <td>category_2</td>\n",
       "      <td>117610</td>\n",
       "      <td>11/6/2021</td>\n",
       "      <td>7</td>\n",
       "    </tr>\n",
       "    <tr>\n",
       "      <th>1</th>\n",
       "      <td>category_4</td>\n",
       "      <td>836584</td>\n",
       "      <td>11/18/2021</td>\n",
       "      <td>16</td>\n",
       "    </tr>\n",
       "    <tr>\n",
       "      <th>2</th>\n",
       "      <td>category_1</td>\n",
       "      <td>370195</td>\n",
       "      <td>1/24/2022</td>\n",
       "      <td>6</td>\n",
       "    </tr>\n",
       "    <tr>\n",
       "      <th>3</th>\n",
       "      <td>category_2</td>\n",
       "      <td>172582</td>\n",
       "      <td>10/30/2021</td>\n",
       "      <td>5</td>\n",
       "    </tr>\n",
       "    <tr>\n",
       "      <th>4</th>\n",
       "      <td>category_2</td>\n",
       "      <td>1006009</td>\n",
       "      <td>10/30/2021</td>\n",
       "      <td>5</td>\n",
       "    </tr>\n",
       "  </tbody>\n",
       "</table>\n",
       "</div>"
      ],
      "text/plain": [
       "  CategoryCode  ItemCode      DateID  DailySales\n",
       "0   category_2    117610   11/6/2021           7\n",
       "1   category_4    836584  11/18/2021          16\n",
       "2   category_1    370195   1/24/2022           6\n",
       "3   category_2    172582  10/30/2021           5\n",
       "4   category_2   1006009  10/30/2021           5"
      ]
     },
     "execution_count": 3,
     "metadata": {},
     "output_type": "execute_result"
    }
   ],
   "source": [
    "train_data.head()"
   ]
  },
  {
   "cell_type": "code",
   "execution_count": 4,
   "metadata": {},
   "outputs": [
    {
     "data": {
      "text/html": [
       "<div>\n",
       "<style scoped>\n",
       "    .dataframe tbody tr th:only-of-type {\n",
       "        vertical-align: middle;\n",
       "    }\n",
       "\n",
       "    .dataframe tbody tr th {\n",
       "        vertical-align: top;\n",
       "    }\n",
       "\n",
       "    .dataframe thead th {\n",
       "        text-align: right;\n",
       "    }\n",
       "</style>\n",
       "<table border=\"1\" class=\"dataframe\">\n",
       "  <thead>\n",
       "    <tr style=\"text-align: right;\">\n",
       "      <th></th>\n",
       "      <th>CategoryCode</th>\n",
       "      <th>ItemCode</th>\n",
       "      <th>Week</th>\n",
       "      <th>WeeklySales</th>\n",
       "    </tr>\n",
       "  </thead>\n",
       "  <tbody>\n",
       "    <tr>\n",
       "      <th>0</th>\n",
       "      <td>category_2</td>\n",
       "      <td>1044502</td>\n",
       "      <td>w1</td>\n",
       "      <td>11</td>\n",
       "    </tr>\n",
       "    <tr>\n",
       "      <th>1</th>\n",
       "      <td>category_2</td>\n",
       "      <td>1105009</td>\n",
       "      <td>w1</td>\n",
       "      <td>11</td>\n",
       "    </tr>\n",
       "    <tr>\n",
       "      <th>2</th>\n",
       "      <td>category_2</td>\n",
       "      <td>913561</td>\n",
       "      <td>w4</td>\n",
       "      <td>5</td>\n",
       "    </tr>\n",
       "    <tr>\n",
       "      <th>3</th>\n",
       "      <td>category_1</td>\n",
       "      <td>1048975</td>\n",
       "      <td>w4</td>\n",
       "      <td>30</td>\n",
       "    </tr>\n",
       "    <tr>\n",
       "      <th>4</th>\n",
       "      <td>category_1</td>\n",
       "      <td>17287</td>\n",
       "      <td>w2</td>\n",
       "      <td>60</td>\n",
       "    </tr>\n",
       "  </tbody>\n",
       "</table>\n",
       "</div>"
      ],
      "text/plain": [
       "  CategoryCode  ItemCode Week  WeeklySales\n",
       "0   category_2   1044502   w1           11\n",
       "1   category_2   1105009   w1           11\n",
       "2   category_2    913561   w4            5\n",
       "3   category_1   1048975   w4           30\n",
       "4   category_1     17287   w2           60"
      ]
     },
     "execution_count": 4,
     "metadata": {},
     "output_type": "execute_result"
    }
   ],
   "source": [
    "validation_data.head()"
   ]
  },
  {
   "cell_type": "code",
   "execution_count": 5,
   "metadata": {},
   "outputs": [
    {
     "data": {
      "text/html": [
       "<div>\n",
       "<style scoped>\n",
       "    .dataframe tbody tr th:only-of-type {\n",
       "        vertical-align: middle;\n",
       "    }\n",
       "\n",
       "    .dataframe tbody tr th {\n",
       "        vertical-align: top;\n",
       "    }\n",
       "\n",
       "    .dataframe thead th {\n",
       "        text-align: right;\n",
       "    }\n",
       "</style>\n",
       "<table border=\"1\" class=\"dataframe\">\n",
       "  <thead>\n",
       "    <tr style=\"text-align: right;\">\n",
       "      <th></th>\n",
       "      <th>CategoryCode</th>\n",
       "      <th>ItemCode</th>\n",
       "      <th>Week</th>\n",
       "      <th>PredictedSales</th>\n",
       "    </tr>\n",
       "  </thead>\n",
       "  <tbody>\n",
       "    <tr>\n",
       "      <th>0</th>\n",
       "      <td>category_1</td>\n",
       "      <td>43738</td>\n",
       "      <td>w4</td>\n",
       "      <td>NaN</td>\n",
       "    </tr>\n",
       "    <tr>\n",
       "      <th>1</th>\n",
       "      <td>category_2</td>\n",
       "      <td>1006090</td>\n",
       "      <td>w1</td>\n",
       "      <td>NaN</td>\n",
       "    </tr>\n",
       "    <tr>\n",
       "      <th>2</th>\n",
       "      <td>category_2</td>\n",
       "      <td>1076929</td>\n",
       "      <td>w4</td>\n",
       "      <td>NaN</td>\n",
       "    </tr>\n",
       "    <tr>\n",
       "      <th>3</th>\n",
       "      <td>category_1</td>\n",
       "      <td>1081321</td>\n",
       "      <td>w3</td>\n",
       "      <td>NaN</td>\n",
       "    </tr>\n",
       "    <tr>\n",
       "      <th>4</th>\n",
       "      <td>category_2</td>\n",
       "      <td>216151</td>\n",
       "      <td>w4</td>\n",
       "      <td>NaN</td>\n",
       "    </tr>\n",
       "  </tbody>\n",
       "</table>\n",
       "</div>"
      ],
      "text/plain": [
       "  CategoryCode  ItemCode Week  PredictedSales\n",
       "0   category_1     43738   w4             NaN\n",
       "1   category_2   1006090   w1             NaN\n",
       "2   category_2   1076929   w4             NaN\n",
       "3   category_1   1081321   w3             NaN\n",
       "4   category_2    216151   w4             NaN"
      ]
     },
     "execution_count": 5,
     "metadata": {},
     "output_type": "execute_result"
    }
   ],
   "source": [
    "test_data.head()"
   ]
  },
  {
   "cell_type": "markdown",
   "metadata": {},
   "source": [
    "## Preprocess"
   ]
  },
  {
   "cell_type": "code",
   "execution_count": 6,
   "metadata": {},
   "outputs": [],
   "source": [
    "category_codes = np.unique([*train_data['CategoryCode'].values, *validation_data['CategoryCode'].values, *test_data['CategoryCode'].values])\n",
    "category_map = {}\n",
    "\n",
    "for i in range(len(category_codes)):\n",
    "    category_map[category_codes[i]] = i"
   ]
  },
  {
   "cell_type": "code",
   "execution_count": 7,
   "metadata": {},
   "outputs": [],
   "source": [
    "item_codes = np.unique([*train_data['ItemCode'].values, *test_data['ItemCode'].values, *validation_data['ItemCode'].values])\n",
    "item_map = {}\n",
    "\n",
    "for i in range(len(item_codes)):\n",
    "    item_map[item_codes[i]] = i"
   ]
  },
  {
   "cell_type": "code",
   "execution_count": 8,
   "metadata": {},
   "outputs": [],
   "source": [
    "def string_to_date(d):\n",
    "    return datetime(int(d.split('/')[2]), int(d.split('/')[0]), int(d.split('/')[1]))"
   ]
  },
  {
   "cell_type": "code",
   "execution_count": 9,
   "metadata": {},
   "outputs": [],
   "source": [
    "def get_year(date):\n",
    "    return date.year\n",
    "\n",
    "def get_month(date):\n",
    "    return date.month\n",
    "\n",
    "def get_annual_week_id(date):\n",
    "    return pd.Period(date).week\n",
    "\n",
    "def get_monthly_week_id(date):\n",
    "    first_day = date.replace(day=1)\n",
    "\n",
    "    dom = date.day\n",
    "    adjusted_dom = dom + first_day.weekday()\n",
    "\n",
    "    return int(ceil(adjusted_dom/7.0))\n",
    "\n",
    "def get_category_id(id):\n",
    "    return category_map[id]\n",
    "\n",
    "def get_item_code_id(id):\n",
    "    return item_map[id]"
   ]
  },
  {
   "cell_type": "code",
   "execution_count": 10,
   "metadata": {},
   "outputs": [],
   "source": [
    "def week_to_weekid(week):\n",
    "    if (week == \"w1\"):\n",
    "        return get_annual_week_id(('02/14/2022'))\n",
    "    if (week == \"w2\"):\n",
    "        return get_annual_week_id(('02/21/2022'))\n",
    "    if (week == \"w3\"):\n",
    "        return get_annual_week_id(('02/28/2022'))\n",
    "    if (week == \"w4\"):\n",
    "        return get_annual_week_id(('03/07/2022'))\n",
    "\n",
    "weeks = np.unique(test_data['Week'].values)\n",
    "week_id_map = {}\n",
    "\n",
    "for i in range(len(weeks)):\n",
    "    week_id_map[weeks[i]] = week_to_weekid(weeks[i])"
   ]
  },
  {
   "cell_type": "code",
   "execution_count": 11,
   "metadata": {},
   "outputs": [],
   "source": [
    "def get_week_id_from_map(week):\n",
    "    return week_id_map[week]"
   ]
  },
  {
   "cell_type": "markdown",
   "metadata": {},
   "source": [
    "#### Preprocess train data"
   ]
  },
  {
   "cell_type": "code",
   "execution_count": 12,
   "metadata": {},
   "outputs": [],
   "source": [
    "train_data['WeekID'] = train_data['DateID'].apply(get_annual_week_id)\n",
    "train_data['DateID'] = train_data['DateID'].apply(string_to_date)\n",
    "train_data['DailySales'] = train_data['DailySales']\n",
    "train_data['Year'] = train_data['DateID'].apply(get_year)\n",
    "train_data['ItemCode'] = train_data['ItemCode'].apply(get_item_code_id)\n",
    "train_data['CategoryCode'] = train_data['CategoryCode'].apply(get_category_id)"
   ]
  },
  {
   "cell_type": "code",
   "execution_count": 13,
   "metadata": {},
   "outputs": [
    {
     "data": {
      "text/html": [
       "<div>\n",
       "<style scoped>\n",
       "    .dataframe tbody tr th:only-of-type {\n",
       "        vertical-align: middle;\n",
       "    }\n",
       "\n",
       "    .dataframe tbody tr th {\n",
       "        vertical-align: top;\n",
       "    }\n",
       "\n",
       "    .dataframe thead th {\n",
       "        text-align: right;\n",
       "    }\n",
       "</style>\n",
       "<table border=\"1\" class=\"dataframe\">\n",
       "  <thead>\n",
       "    <tr style=\"text-align: right;\">\n",
       "      <th></th>\n",
       "      <th>WeekID</th>\n",
       "      <th>CategoryCode</th>\n",
       "      <th>ItemCode</th>\n",
       "      <th>Year</th>\n",
       "      <th>WeeklySales</th>\n",
       "    </tr>\n",
       "  </thead>\n",
       "  <tbody>\n",
       "    <tr>\n",
       "      <th>0</th>\n",
       "      <td>1</td>\n",
       "      <td>0</td>\n",
       "      <td>0</td>\n",
       "      <td>2022</td>\n",
       "      <td>83</td>\n",
       "    </tr>\n",
       "    <tr>\n",
       "      <th>1</th>\n",
       "      <td>1</td>\n",
       "      <td>0</td>\n",
       "      <td>1</td>\n",
       "      <td>2022</td>\n",
       "      <td>66</td>\n",
       "    </tr>\n",
       "    <tr>\n",
       "      <th>2</th>\n",
       "      <td>1</td>\n",
       "      <td>0</td>\n",
       "      <td>5</td>\n",
       "      <td>2022</td>\n",
       "      <td>21</td>\n",
       "    </tr>\n",
       "    <tr>\n",
       "      <th>3</th>\n",
       "      <td>1</td>\n",
       "      <td>0</td>\n",
       "      <td>6</td>\n",
       "      <td>2022</td>\n",
       "      <td>621</td>\n",
       "    </tr>\n",
       "    <tr>\n",
       "      <th>4</th>\n",
       "      <td>1</td>\n",
       "      <td>0</td>\n",
       "      <td>10</td>\n",
       "      <td>2022</td>\n",
       "      <td>31</td>\n",
       "    </tr>\n",
       "  </tbody>\n",
       "</table>\n",
       "</div>"
      ],
      "text/plain": [
       "   WeekID  CategoryCode  ItemCode  Year  WeeklySales\n",
       "0       1             0         0  2022           83\n",
       "1       1             0         1  2022           66\n",
       "2       1             0         5  2022           21\n",
       "3       1             0         6  2022          621\n",
       "4       1             0        10  2022           31"
      ]
     },
     "execution_count": 13,
     "metadata": {},
     "output_type": "execute_result"
    }
   ],
   "source": [
    "train_grp_by_week = train_data.groupby(['WeekID', 'CategoryCode', 'ItemCode', 'Year'])['DailySales'].sum().reset_index()\n",
    "train_grp_by_week = train_grp_by_week.rename(columns = {'DailySales': 'WeeklySales'}, inplace = False)\n",
    "train_grp_by_week.head()"
   ]
  },
  {
   "cell_type": "code",
   "execution_count": 14,
   "metadata": {},
   "outputs": [
    {
     "data": {
      "text/html": [
       "<div>\n",
       "<style scoped>\n",
       "    .dataframe tbody tr th:only-of-type {\n",
       "        vertical-align: middle;\n",
       "    }\n",
       "\n",
       "    .dataframe tbody tr th {\n",
       "        vertical-align: top;\n",
       "    }\n",
       "\n",
       "    .dataframe thead th {\n",
       "        text-align: right;\n",
       "    }\n",
       "</style>\n",
       "<table border=\"1\" class=\"dataframe\">\n",
       "  <thead>\n",
       "    <tr style=\"text-align: right;\">\n",
       "      <th></th>\n",
       "      <th>WeekID</th>\n",
       "      <th>CategoryCode</th>\n",
       "      <th>ItemCode</th>\n",
       "      <th>Year</th>\n",
       "      <th>WeeklySales</th>\n",
       "    </tr>\n",
       "  </thead>\n",
       "  <tbody>\n",
       "    <tr>\n",
       "      <th>count</th>\n",
       "      <td>3952.000000</td>\n",
       "      <td>3952.000000</td>\n",
       "      <td>3952.000000</td>\n",
       "      <td>3952.000000</td>\n",
       "      <td>3952.000000</td>\n",
       "    </tr>\n",
       "    <tr>\n",
       "      <th>mean</th>\n",
       "      <td>33.918775</td>\n",
       "      <td>0.919787</td>\n",
       "      <td>95.639676</td>\n",
       "      <td>2021.329200</td>\n",
       "      <td>37.058957</td>\n",
       "    </tr>\n",
       "    <tr>\n",
       "      <th>std</th>\n",
       "      <td>19.510868</td>\n",
       "      <td>0.869572</td>\n",
       "      <td>55.659723</td>\n",
       "      <td>0.469982</td>\n",
       "      <td>72.419014</td>\n",
       "    </tr>\n",
       "    <tr>\n",
       "      <th>min</th>\n",
       "      <td>1.000000</td>\n",
       "      <td>0.000000</td>\n",
       "      <td>0.000000</td>\n",
       "      <td>2021.000000</td>\n",
       "      <td>1.000000</td>\n",
       "    </tr>\n",
       "    <tr>\n",
       "      <th>25%</th>\n",
       "      <td>6.000000</td>\n",
       "      <td>0.000000</td>\n",
       "      <td>47.750000</td>\n",
       "      <td>2021.000000</td>\n",
       "      <td>9.000000</td>\n",
       "    </tr>\n",
       "    <tr>\n",
       "      <th>50%</th>\n",
       "      <td>43.000000</td>\n",
       "      <td>1.000000</td>\n",
       "      <td>96.000000</td>\n",
       "      <td>2021.000000</td>\n",
       "      <td>17.000000</td>\n",
       "    </tr>\n",
       "    <tr>\n",
       "      <th>75%</th>\n",
       "      <td>48.000000</td>\n",
       "      <td>1.000000</td>\n",
       "      <td>143.000000</td>\n",
       "      <td>2022.000000</td>\n",
       "      <td>36.250000</td>\n",
       "    </tr>\n",
       "    <tr>\n",
       "      <th>max</th>\n",
       "      <td>52.000000</td>\n",
       "      <td>3.000000</td>\n",
       "      <td>193.000000</td>\n",
       "      <td>2022.000000</td>\n",
       "      <td>909.000000</td>\n",
       "    </tr>\n",
       "  </tbody>\n",
       "</table>\n",
       "</div>"
      ],
      "text/plain": [
       "            WeekID  CategoryCode     ItemCode         Year  WeeklySales\n",
       "count  3952.000000   3952.000000  3952.000000  3952.000000  3952.000000\n",
       "mean     33.918775      0.919787    95.639676  2021.329200    37.058957\n",
       "std      19.510868      0.869572    55.659723     0.469982    72.419014\n",
       "min       1.000000      0.000000     0.000000  2021.000000     1.000000\n",
       "25%       6.000000      0.000000    47.750000  2021.000000     9.000000\n",
       "50%      43.000000      1.000000    96.000000  2021.000000    17.000000\n",
       "75%      48.000000      1.000000   143.000000  2022.000000    36.250000\n",
       "max      52.000000      3.000000   193.000000  2022.000000   909.000000"
      ]
     },
     "execution_count": 14,
     "metadata": {},
     "output_type": "execute_result"
    }
   ],
   "source": [
    "train_grp_by_week.describe()"
   ]
  },
  {
   "cell_type": "markdown",
   "metadata": {},
   "source": [
    "#### Preprocess validation data"
   ]
  },
  {
   "cell_type": "code",
   "execution_count": 15,
   "metadata": {},
   "outputs": [],
   "source": [
    "validation_data['ItemCode'] = validation_data['ItemCode'].apply(get_item_code_id)\n",
    "validation_data['CategoryCode'] = validation_data['CategoryCode'].apply(get_category_id)\n",
    "\n",
    "validation_data['WeekID'] = validation_data['Week'].apply(get_week_id_from_map) "
   ]
  },
  {
   "cell_type": "code",
   "execution_count": 16,
   "metadata": {},
   "outputs": [
    {
     "data": {
      "text/html": [
       "<div>\n",
       "<style scoped>\n",
       "    .dataframe tbody tr th:only-of-type {\n",
       "        vertical-align: middle;\n",
       "    }\n",
       "\n",
       "    .dataframe tbody tr th {\n",
       "        vertical-align: top;\n",
       "    }\n",
       "\n",
       "    .dataframe thead th {\n",
       "        text-align: right;\n",
       "    }\n",
       "</style>\n",
       "<table border=\"1\" class=\"dataframe\">\n",
       "  <thead>\n",
       "    <tr style=\"text-align: right;\">\n",
       "      <th></th>\n",
       "      <th>CategoryCode</th>\n",
       "      <th>ItemCode</th>\n",
       "      <th>WeekID</th>\n",
       "      <th>WeeklySales</th>\n",
       "    </tr>\n",
       "  </thead>\n",
       "  <tbody>\n",
       "    <tr>\n",
       "      <th>0</th>\n",
       "      <td>0</td>\n",
       "      <td>0</td>\n",
       "      <td>7</td>\n",
       "      <td>25</td>\n",
       "    </tr>\n",
       "    <tr>\n",
       "      <th>1</th>\n",
       "      <td>0</td>\n",
       "      <td>0</td>\n",
       "      <td>8</td>\n",
       "      <td>69</td>\n",
       "    </tr>\n",
       "    <tr>\n",
       "      <th>2</th>\n",
       "      <td>0</td>\n",
       "      <td>0</td>\n",
       "      <td>9</td>\n",
       "      <td>120</td>\n",
       "    </tr>\n",
       "    <tr>\n",
       "      <th>3</th>\n",
       "      <td>0</td>\n",
       "      <td>0</td>\n",
       "      <td>10</td>\n",
       "      <td>69</td>\n",
       "    </tr>\n",
       "    <tr>\n",
       "      <th>4</th>\n",
       "      <td>0</td>\n",
       "      <td>1</td>\n",
       "      <td>7</td>\n",
       "      <td>7</td>\n",
       "    </tr>\n",
       "  </tbody>\n",
       "</table>\n",
       "</div>"
      ],
      "text/plain": [
       "   CategoryCode  ItemCode  WeekID  WeeklySales\n",
       "0             0         0       7           25\n",
       "1             0         0       8           69\n",
       "2             0         0       9          120\n",
       "3             0         0      10           69\n",
       "4             0         1       7            7"
      ]
     },
     "execution_count": 16,
     "metadata": {},
     "output_type": "execute_result"
    }
   ],
   "source": [
    "val_data_grp_by_week = validation_data.groupby(['CategoryCode', 'ItemCode', 'WeekID'])['WeeklySales'].sum().reset_index()\n",
    "val_data_grp_by_week.head()"
   ]
  },
  {
   "cell_type": "code",
   "execution_count": 17,
   "metadata": {},
   "outputs": [
    {
     "data": {
      "text/html": [
       "<div>\n",
       "<style scoped>\n",
       "    .dataframe tbody tr th:only-of-type {\n",
       "        vertical-align: middle;\n",
       "    }\n",
       "\n",
       "    .dataframe tbody tr th {\n",
       "        vertical-align: top;\n",
       "    }\n",
       "\n",
       "    .dataframe thead th {\n",
       "        text-align: right;\n",
       "    }\n",
       "</style>\n",
       "<table border=\"1\" class=\"dataframe\">\n",
       "  <thead>\n",
       "    <tr style=\"text-align: right;\">\n",
       "      <th></th>\n",
       "      <th>CategoryCode</th>\n",
       "      <th>ItemCode</th>\n",
       "      <th>WeekID</th>\n",
       "      <th>WeeklySales</th>\n",
       "    </tr>\n",
       "  </thead>\n",
       "  <tbody>\n",
       "    <tr>\n",
       "      <th>count</th>\n",
       "      <td>370.000000</td>\n",
       "      <td>370.000000</td>\n",
       "      <td>370.000000</td>\n",
       "      <td>370.000000</td>\n",
       "    </tr>\n",
       "    <tr>\n",
       "      <th>mean</th>\n",
       "      <td>0.848649</td>\n",
       "      <td>94.956757</td>\n",
       "      <td>8.516216</td>\n",
       "      <td>42.759459</td>\n",
       "    </tr>\n",
       "    <tr>\n",
       "      <th>std</th>\n",
       "      <td>0.774814</td>\n",
       "      <td>55.496364</td>\n",
       "      <td>1.121848</td>\n",
       "      <td>72.832726</td>\n",
       "    </tr>\n",
       "    <tr>\n",
       "      <th>min</th>\n",
       "      <td>0.000000</td>\n",
       "      <td>0.000000</td>\n",
       "      <td>7.000000</td>\n",
       "      <td>1.000000</td>\n",
       "    </tr>\n",
       "    <tr>\n",
       "      <th>25%</th>\n",
       "      <td>0.000000</td>\n",
       "      <td>50.250000</td>\n",
       "      <td>8.000000</td>\n",
       "      <td>11.000000</td>\n",
       "    </tr>\n",
       "    <tr>\n",
       "      <th>50%</th>\n",
       "      <td>1.000000</td>\n",
       "      <td>94.500000</td>\n",
       "      <td>9.000000</td>\n",
       "      <td>22.000000</td>\n",
       "    </tr>\n",
       "    <tr>\n",
       "      <th>75%</th>\n",
       "      <td>1.000000</td>\n",
       "      <td>142.000000</td>\n",
       "      <td>10.000000</td>\n",
       "      <td>48.000000</td>\n",
       "    </tr>\n",
       "    <tr>\n",
       "      <th>max</th>\n",
       "      <td>3.000000</td>\n",
       "      <td>191.000000</td>\n",
       "      <td>10.000000</td>\n",
       "      <td>771.000000</td>\n",
       "    </tr>\n",
       "  </tbody>\n",
       "</table>\n",
       "</div>"
      ],
      "text/plain": [
       "       CategoryCode    ItemCode      WeekID  WeeklySales\n",
       "count    370.000000  370.000000  370.000000   370.000000\n",
       "mean       0.848649   94.956757    8.516216    42.759459\n",
       "std        0.774814   55.496364    1.121848    72.832726\n",
       "min        0.000000    0.000000    7.000000     1.000000\n",
       "25%        0.000000   50.250000    8.000000    11.000000\n",
       "50%        1.000000   94.500000    9.000000    22.000000\n",
       "75%        1.000000  142.000000   10.000000    48.000000\n",
       "max        3.000000  191.000000   10.000000   771.000000"
      ]
     },
     "execution_count": 17,
     "metadata": {},
     "output_type": "execute_result"
    }
   ],
   "source": [
    "val_data_grp_by_week.describe()"
   ]
  },
  {
   "cell_type": "markdown",
   "metadata": {},
   "source": [
    "#### Preprocess test data"
   ]
  },
  {
   "cell_type": "code",
   "execution_count": 18,
   "metadata": {},
   "outputs": [],
   "source": [
    "test_data['ItemCode'] = test_data['ItemCode'].apply(get_item_code_id)\n",
    "test_data['CategoryCode'] = test_data['CategoryCode'].apply(get_category_id)\n",
    "\n",
    "test_data['WeekID'] = test_data['Week'].apply(get_week_id_from_map) "
   ]
  },
  {
   "cell_type": "code",
   "execution_count": 19,
   "metadata": {},
   "outputs": [
    {
     "data": {
      "text/html": [
       "<div>\n",
       "<style scoped>\n",
       "    .dataframe tbody tr th:only-of-type {\n",
       "        vertical-align: middle;\n",
       "    }\n",
       "\n",
       "    .dataframe tbody tr th {\n",
       "        vertical-align: top;\n",
       "    }\n",
       "\n",
       "    .dataframe thead th {\n",
       "        text-align: right;\n",
       "    }\n",
       "</style>\n",
       "<table border=\"1\" class=\"dataframe\">\n",
       "  <thead>\n",
       "    <tr style=\"text-align: right;\">\n",
       "      <th></th>\n",
       "      <th>CategoryCode</th>\n",
       "      <th>ItemCode</th>\n",
       "      <th>WeekID</th>\n",
       "    </tr>\n",
       "  </thead>\n",
       "  <tbody>\n",
       "    <tr>\n",
       "      <th>0</th>\n",
       "      <td>0</td>\n",
       "      <td>27</td>\n",
       "      <td>10</td>\n",
       "    </tr>\n",
       "    <tr>\n",
       "      <th>1</th>\n",
       "      <td>1</td>\n",
       "      <td>110</td>\n",
       "      <td>7</td>\n",
       "    </tr>\n",
       "    <tr>\n",
       "      <th>2</th>\n",
       "      <td>1</td>\n",
       "      <td>160</td>\n",
       "      <td>10</td>\n",
       "    </tr>\n",
       "    <tr>\n",
       "      <th>3</th>\n",
       "      <td>0</td>\n",
       "      <td>167</td>\n",
       "      <td>9</td>\n",
       "    </tr>\n",
       "    <tr>\n",
       "      <th>4</th>\n",
       "      <td>1</td>\n",
       "      <td>68</td>\n",
       "      <td>10</td>\n",
       "    </tr>\n",
       "  </tbody>\n",
       "</table>\n",
       "</div>"
      ],
      "text/plain": [
       "   CategoryCode  ItemCode  WeekID\n",
       "0             0        27      10\n",
       "1             1       110       7\n",
       "2             1       160      10\n",
       "3             0       167       9\n",
       "4             1        68      10"
      ]
     },
     "execution_count": 19,
     "metadata": {},
     "output_type": "execute_result"
    }
   ],
   "source": [
    "test_data_grp_by_week = test_data.drop(['Week', 'PredictedSales'], axis='columns')\n",
    "test_data_grp_by_week.head()"
   ]
  },
  {
   "cell_type": "markdown",
   "metadata": {},
   "source": [
    "## Visualizations"
   ]
  },
  {
   "cell_type": "code",
   "execution_count": 20,
   "metadata": {},
   "outputs": [
    {
     "data": {
      "image/png": "[encoded data removed]",
      "text/plain": [
       "<Figure size 432x288 with 6 Axes>"
      ]
     },
     "metadata": {
      "needs_background": "light"
     },
     "output_type": "display_data"
    }
   ],
   "source": [
    "train_grp_by_week.hist()\n",
    "plt.show()"
   ]
  },
  {
   "cell_type": "code",
   "execution_count": 21,
   "metadata": {},
   "outputs": [
    {
     "data": {
      "image/png": "[encoded data removed]",
      "text/plain": [
       "<Figure size 432x288 with 9 Axes>"
      ]
     },
     "metadata": {
      "needs_background": "light"
     },
     "output_type": "display_data"
    }
   ],
   "source": [
    "train_grp_by_week.plot(kind='density', subplots=True, sharex=False, layout=(3, 3))\n",
    "plt.show()"
   ]
  },
  {
   "cell_type": "code",
   "execution_count": 22,
   "metadata": {},
   "outputs": [
    {
     "data": {
      "text/plain": [
       "<seaborn.axisgrid.PairGrid at 0x7f4cf3c88340>"
      ]
     },
     "execution_count": 22,
     "metadata": {},
     "output_type": "execute_result"
    },
    {
     "data": {
      "image/png": "[encoded data removed]",
      "text/plain": [
       "<Figure size 900x900 with 30 Axes>"
      ]
     },
     "metadata": {
      "needs_background": "light"
     },
     "output_type": "display_data"
    }
   ],
   "source": [
    "sns.pairplot(data=train_grp_by_week, diag_kind='kde')"
   ]
  },
  {
   "cell_type": "code",
   "execution_count": 23,
   "metadata": {},
   "outputs": [
    {
     "data": {
      "text/plain": [
       "[Text(0.5, 1.0, 'Correlation matrix\\n')]"
      ]
     },
     "execution_count": 23,
     "metadata": {},
     "output_type": "execute_result"
    },
    {
     "data": {
      "image/png": "[encoded data removed]",
      "text/plain": [
       "<Figure size 432x288 with 2 Axes>"
      ]
     },
     "metadata": {
      "needs_background": "light"
     },
     "output_type": "display_data"
    }
   ],
   "source": [
    "hm = sns.heatmap(train_grp_by_week.corr(), annot = True)\n",
    "hm.set(title = \"Correlation matrix\\n\")"
   ]
  },
  {
   "cell_type": "code",
   "execution_count": 24,
   "metadata": {},
   "outputs": [
    {
     "data": {
      "image/png": "[encoded data removed]",
      "text/plain": [
       "<Figure size 360x360 with 1 Axes>"
      ]
     },
     "metadata": {
      "needs_background": "light"
     },
     "output_type": "display_data"
    }
   ],
   "source": [
    "sns.relplot(x=train_grp_by_week['WeekID'], y=train_grp_by_week['WeeklySales'], kind='line')\n",
    "plt.show()"
   ]
  },
  {
   "cell_type": "markdown",
   "metadata": {},
   "source": [
    "## Normalize data"
   ]
  },
  {
   "cell_type": "code",
   "execution_count": 25,
   "metadata": {},
   "outputs": [],
   "source": [
    "from sklearn.preprocessing import Normalizer"
   ]
  },
  {
   "cell_type": "code",
   "execution_count": 26,
   "metadata": {},
   "outputs": [],
   "source": [
    "def normalize(arr):\n",
    "    scalar = Normalizer().fit([arr])\n",
    "    return scalar.transform([arr])[0]"
   ]
  },
  {
   "cell_type": "code",
   "execution_count": 27,
   "metadata": {},
   "outputs": [],
   "source": [
    "week_values = [*train_grp_by_week['WeekID'].values, *test_data_grp_by_week['WeekID'].values, *val_data_grp_by_week['WeekID'].values]\n",
    "category_codes = [*train_grp_by_week['CategoryCode'].values, *test_data_grp_by_week['CategoryCode'].values, *val_data_grp_by_week['CategoryCode'].values]\n",
    "item_codes = [*train_grp_by_week['ItemCode'].values, *test_data_grp_by_week['ItemCode'].values, *val_data_grp_by_week['ItemCode'].values]"
   ]
  },
  {
   "cell_type": "code",
   "execution_count": 28,
   "metadata": {},
   "outputs": [],
   "source": [
    "normalized_week_ids = normalize(week_values)\n",
    "normalized_category_codes = normalize(category_codes)\n",
    "normalized_item_codes = normalize(item_codes)"
   ]
  },
  {
   "cell_type": "code",
   "execution_count": 29,
   "metadata": {},
   "outputs": [
    {
     "name": "stdout",
     "output_type": "stream",
     "text": [
      "3952 377 370\n"
     ]
    }
   ],
   "source": [
    "train_len = len(train_grp_by_week['WeekID'].values)\n",
    "test_len = len(test_data_grp_by_week['WeekID'].values)\n",
    "val_len = len(val_data_grp_by_week['CategoryCode'].values)\n",
    "\n",
    "print(train_len, test_len, val_len)"
   ]
  },
  {
   "cell_type": "code",
   "execution_count": 30,
   "metadata": {},
   "outputs": [
    {
     "data": {
      "text/plain": [
       "(3952, 3)"
      ]
     },
     "execution_count": 30,
     "metadata": {},
     "output_type": "execute_result"
    }
   ],
   "source": [
    "train_x = pd.DataFrame()\n",
    "train_x['week_id_of_year'] = normalized_week_ids[:train_len]\n",
    "train_x['category_code'] = normalized_category_codes[:train_len]\n",
    "train_x['item_code'] = normalized_item_codes[:train_len]\n",
    "\n",
    "train_x.shape"
   ]
  },
  {
   "cell_type": "code",
   "execution_count": 31,
   "metadata": {},
   "outputs": [
    {
     "data": {
      "text/plain": [
       "(377, 3)"
      ]
     },
     "execution_count": 31,
     "metadata": {},
     "output_type": "execute_result"
    }
   ],
   "source": [
    "test_x = pd.DataFrame()\n",
    "test_x['week_id_of_year'] = normalized_week_ids[train_len:(test_len + train_len)]\n",
    "test_x['category_code'] = normalized_category_codes[train_len:(test_len + train_len)]\n",
    "test_x['item_code'] = normalized_item_codes[train_len:(test_len + train_len)]\n",
    "\n",
    "test_x.shape"
   ]
  },
  {
   "cell_type": "code",
   "execution_count": 32,
   "metadata": {},
   "outputs": [
    {
     "data": {
      "text/plain": [
       "(370, 3)"
      ]
     },
     "execution_count": 32,
     "metadata": {},
     "output_type": "execute_result"
    }
   ],
   "source": [
    "val_x = pd.DataFrame()\n",
    "val_x['week_id_of_year'] = normalized_week_ids[(test_len + train_len): ]\n",
    "val_x['category_code'] = normalized_category_codes[(test_len + train_len): ]\n",
    "val_x['item_code'] = normalized_item_codes[(test_len + train_len): ]\n",
    "\n",
    "val_x.shape"
   ]
  },
  {
   "cell_type": "code",
   "execution_count": 33,
   "metadata": {},
   "outputs": [],
   "source": [
    "train_y = train_grp_by_week['WeeklySales']\n",
    "val_y = val_data_grp_by_week['WeeklySales']"
   ]
  },
  {
   "cell_type": "code",
   "execution_count": 34,
   "metadata": {},
   "outputs": [
    {
     "name": "stdout",
     "output_type": "stream",
     "text": [
      "(2647, 3) (2647,)\n"
     ]
    }
   ],
   "source": [
    "from sklearn.model_selection import train_test_split\n",
    "\n",
    "X_train, X_test, Y_train, Y_test = train_test_split(train_x, train_y, test_size=0.33, shuffle=True)\n",
    "print(X_train.shape, Y_train.shape)"
   ]
  },
  {
   "cell_type": "code",
   "execution_count": 35,
   "metadata": {},
   "outputs": [],
   "source": [
    "# from imblearn.over_sampling import RandomOverSampler\n",
    "\n",
    "# def getBalancedData(X, Y):\n",
    "#     sm = RandomOverSampler(random_state=42)\n",
    "#     return sm.fit_resample(X, Y)\n",
    "\n",
    "# balanced_X, balanced_Y = getBalancedData(X_train, Y_train)\n",
    "# print(balanced_X.shape, balanced_Y.shape)\n"
   ]
  },
  {
   "cell_type": "markdown",
   "metadata": {},
   "source": [
    "## Metrics (Explained variance score)"
   ]
  },
  {
   "cell_type": "code",
   "execution_count": 36,
   "metadata": {},
   "outputs": [],
   "source": [
    "from sklearn.metrics import explained_variance_score\n",
    "\n",
    "def get_ev_score(true_values, predicted_values):\n",
    "    return explained_variance_score(true_values, predicted_values)"
   ]
  },
  {
   "cell_type": "markdown",
   "metadata": {},
   "source": [
    "## Random Forest Regressor"
   ]
  },
  {
   "cell_type": "code",
   "execution_count": 37,
   "metadata": {},
   "outputs": [],
   "source": [
    "from sklearn.ensemble import RandomForestRegressor\n",
    "random_forest_reg = RandomForestRegressor()\n",
    "random_forest_reg.fit(X_train, Y_train)\n",
    "\n",
    "random_forest_reg.score(X_test, Y_test)\n",
    "random_forest_predictions = random_forest_reg.predict(X_test)"
   ]
  },
  {
   "cell_type": "code",
   "execution_count": 38,
   "metadata": {},
   "outputs": [
    {
     "data": {
      "text/plain": [
       "0.754814289229449"
      ]
     },
     "execution_count": 38,
     "metadata": {},
     "output_type": "execute_result"
    }
   ],
   "source": [
    "# uniform avarage score\n",
    "random_forest_reg.score(val_x, val_y)"
   ]
  },
  {
   "cell_type": "code",
   "execution_count": 39,
   "metadata": {},
   "outputs": [
    {
     "data": {
      "text/plain": [
       "0.8123169011970082"
      ]
     },
     "execution_count": 39,
     "metadata": {},
     "output_type": "execute_result"
    }
   ],
   "source": [
    "# explained variance score\n",
    "get_ev_score(Y_test, random_forest_predictions)"
   ]
  },
  {
   "cell_type": "code",
   "execution_count": 40,
   "metadata": {},
   "outputs": [
    {
     "data": {
      "text/plain": [
       "[<matplotlib.lines.Line2D at 0x7f4cea1f6df0>]"
      ]
     },
     "execution_count": 40,
     "metadata": {},
     "output_type": "execute_result"
    },
    {
     "data": {
      "image/png": "[encoded data removed]",
      "text/plain": [
       "<Figure size 432x288 with 1 Axes>"
      ]
     },
     "metadata": {
      "needs_background": "light"
     },
     "output_type": "display_data"
    }
   ],
   "source": [
    "plt.plot(Y_test - random_forest_predictions, marker='o', linestyle='')"
   ]
  },
  {
   "cell_type": "markdown",
   "metadata": {},
   "source": [
    "## Extra Trees Regressor"
   ]
  },
  {
   "cell_type": "code",
   "execution_count": 41,
   "metadata": {},
   "outputs": [],
   "source": [
    "from sklearn.ensemble import ExtraTreesRegressor\n",
    "\n",
    "extra_trees_reg = ExtraTreesRegressor()\n",
    "extra_trees_reg.fit(X_train, Y_train)\n",
    "\n",
    "extra_trees_reg.score(X_test, Y_test)\n",
    "extra_trees_predictions = extra_trees_reg.predict(X_test)"
   ]
  },
  {
   "cell_type": "code",
   "execution_count": 42,
   "metadata": {},
   "outputs": [
    {
     "data": {
      "text/plain": [
       "0.7192184832485882"
      ]
     },
     "execution_count": 42,
     "metadata": {},
     "output_type": "execute_result"
    }
   ],
   "source": [
    "# uniform avarage score\n",
    "extra_trees_reg.score(val_x, val_y)"
   ]
  },
  {
   "cell_type": "code",
   "execution_count": 43,
   "metadata": {},
   "outputs": [
    {
     "data": {
      "text/plain": [
       "0.7960080391505076"
      ]
     },
     "execution_count": 43,
     "metadata": {},
     "output_type": "execute_result"
    }
   ],
   "source": [
    "# explained variance score\n",
    "get_ev_score(Y_test, extra_trees_predictions)"
   ]
  },
  {
   "cell_type": "code",
   "execution_count": 44,
   "metadata": {},
   "outputs": [
    {
     "data": {
      "text/plain": [
       "[<matplotlib.lines.Line2D at 0x7f4cea1f1640>]"
      ]
     },
     "execution_count": 44,
     "metadata": {},
     "output_type": "execute_result"
    },
    {
     "data": {
      "image/png": "[encoded data removed]",
      "text/plain": [
       "<Figure size 432x288 with 1 Axes>"
      ]
     },
     "metadata": {
      "needs_background": "light"
     },
     "output_type": "display_data"
    }
   ],
   "source": [
    "\n",
    "plt.plot(Y_test - extra_trees_predictions, marker='o', linestyle='')"
   ]
  },
  {
   "cell_type": "markdown",
   "metadata": {},
   "source": [
    "## Voting Regressor"
   ]
  },
  {
   "cell_type": "code",
   "execution_count": 45,
   "metadata": {},
   "outputs": [],
   "source": [
    "from sklearn.ensemble import VotingRegressor\n",
    "\n",
    "r1 = RandomForestRegressor(n_estimators=100, random_state=10, criterion='absolute_error')\n",
    "r2 = RandomForestRegressor(n_estimators=10, random_state=1)\n",
    "\n",
    "voting_reg = VotingRegressor([('rf', r1), ('et', r2)]).fit(X_train, Y_train)\n",
    "voting_reg_predictions = voting_reg.predict(X_test)"
   ]
  },
  {
   "cell_type": "code",
   "execution_count": 46,
   "metadata": {},
   "outputs": [
    {
     "data": {
      "text/plain": [
       "0.8037095485695636"
      ]
     },
     "execution_count": 46,
     "metadata": {},
     "output_type": "execute_result"
    }
   ],
   "source": [
    "# uniform avarage score\n",
    "voting_reg.score(X_test, Y_test)"
   ]
  },
  {
   "cell_type": "code",
   "execution_count": 47,
   "metadata": {},
   "outputs": [
    {
     "data": {
      "text/plain": [
       "0.80376219861441"
      ]
     },
     "execution_count": 47,
     "metadata": {},
     "output_type": "execute_result"
    }
   ],
   "source": [
    "# explained variance score\n",
    "get_ev_score(Y_test, voting_reg_predictions)"
   ]
  },
  {
   "cell_type": "code",
   "execution_count": 48,
   "metadata": {},
   "outputs": [
    {
     "data": {
      "text/plain": [
       "[<matplotlib.lines.Line2D at 0x7f4cea164e50>]"
      ]
     },
     "execution_count": 48,
     "metadata": {},
     "output_type": "execute_result"
    },
    {
     "data": {
      "image/png": "[encoded data removed]",
      "text/plain": [
       "<Figure size 432x288 with 1 Axes>"
      ]
     },
     "metadata": {
      "needs_background": "light"
     },
     "output_type": "display_data"
    }
   ],
   "source": [
    "plt.plot(Y_test - voting_reg_predictions, marker='o', linestyle='')"
   ]
  },
  {
   "cell_type": "code",
   "execution_count": 49,
   "metadata": {},
   "outputs": [
    {
     "data": {
      "text/html": [
       "<div>\n",
       "<style scoped>\n",
       "    .dataframe tbody tr th:only-of-type {\n",
       "        vertical-align: middle;\n",
       "    }\n",
       "\n",
       "    .dataframe tbody tr th {\n",
       "        vertical-align: top;\n",
       "    }\n",
       "\n",
       "    .dataframe thead th {\n",
       "        text-align: right;\n",
       "    }\n",
       "</style>\n",
       "<table border=\"1\" class=\"dataframe\">\n",
       "  <thead>\n",
       "    <tr style=\"text-align: right;\">\n",
       "      <th></th>\n",
       "      <th>Model</th>\n",
       "      <th>Score</th>\n",
       "    </tr>\n",
       "  </thead>\n",
       "  <tbody>\n",
       "    <tr>\n",
       "      <th>0</th>\n",
       "      <td>GradientBoostingRegressor</td>\n",
       "      <td>0.361849</td>\n",
       "    </tr>\n",
       "    <tr>\n",
       "      <th>1</th>\n",
       "      <td>VotingRegressor</td>\n",
       "      <td>0.796469</td>\n",
       "    </tr>\n",
       "    <tr>\n",
       "      <th>2</th>\n",
       "      <td>RandomForestRegressor</td>\n",
       "      <td>0.807089</td>\n",
       "    </tr>\n",
       "    <tr>\n",
       "      <th>3</th>\n",
       "      <td>ExtraTreesRegressor</td>\n",
       "      <td>0.749180</td>\n",
       "    </tr>\n",
       "    <tr>\n",
       "      <th>4</th>\n",
       "      <td>HistGradientBoostingRegressor</td>\n",
       "      <td>0.789361</td>\n",
       "    </tr>\n",
       "    <tr>\n",
       "      <th>5</th>\n",
       "      <td>AdaBoostRegressor</td>\n",
       "      <td>0.172656</td>\n",
       "    </tr>\n",
       "    <tr>\n",
       "      <th>6</th>\n",
       "      <td>BaggingRegressor</td>\n",
       "      <td>0.812449</td>\n",
       "    </tr>\n",
       "  </tbody>\n",
       "</table>\n",
       "</div>"
      ],
      "text/plain": [
       "                           Model     Score\n",
       "0      GradientBoostingRegressor  0.361849\n",
       "1                VotingRegressor  0.796469\n",
       "2          RandomForestRegressor  0.807089\n",
       "3            ExtraTreesRegressor  0.749180\n",
       "4  HistGradientBoostingRegressor  0.789361\n",
       "5              AdaBoostRegressor  0.172656\n",
       "6               BaggingRegressor  0.812449"
      ]
     },
     "execution_count": 49,
     "metadata": {},
     "output_type": "execute_result"
    }
   ],
   "source": [
    "from sklearn.ensemble import GradientBoostingRegressor, HistGradientBoostingRegressor, AdaBoostRegressor, BaggingRegressor\n",
    "from sklearn.compose import TransformedTargetRegressor\n",
    "from sklearn.preprocessing import QuantileTransformer\n",
    "\n",
    "# generic function to fit model and return metrics for every algorithm\n",
    "\n",
    "\n",
    "def boost_models(x):\n",
    "    # transforming target variable through quantile transformer\n",
    "    regr_trans = TransformedTargetRegressor(\n",
    "        regressor=x, transformer=QuantileTransformer(output_distribution='normal'))\n",
    "    regr_trans.fit(X_train, Y_train)\n",
    "    yhat = regr_trans.predict(X_test)\n",
    "    algoname = x.__class__.__name__\n",
    "    return algoname, get_ev_score(Y_test, yhat)\n",
    "\n",
    "\n",
    "r1 = RandomForestRegressor(\n",
    "    n_estimators=100, random_state=10, criterion='absolute_error')\n",
    "r2 = RandomForestRegressor(n_estimators=10, random_state=1)\n",
    "\n",
    "vr = VotingRegressor([('rf', r1), ('et', r2)])\n",
    "\n",
    "algo = [GradientBoostingRegressor(), vr, RandomForestRegressor(), ExtraTreesRegressor(), HistGradientBoostingRegressor(), AdaBoostRegressor(), BaggingRegressor()]\n",
    "score = []\n",
    "for a in algo:\n",
    "    score.append(boost_models(a))\n",
    "\n",
    "# Collate all scores in a table\n",
    "pd.DataFrame(score, columns=['Model', 'Score'])\n"
   ]
  },
  {
   "cell_type": "code",
   "execution_count": 59,
   "metadata": {},
   "outputs": [],
   "source": [
    "# from sklearn.model_selection import GridSearchCV\n",
    "\n",
    "# param_grid = {'loss': ['squared_error', 'absolute_error', 'poisson'],  \n",
    "#               'max_depth': [7, 8],\n",
    "#               'max_itr': [100, 80, 60, 55, 51, 45], \n",
    "#               'learning_rate' :[0.26, 0.25, 0.2, 0.1, 0.15, 0.3, 0.16, 0.13]\n",
    "#              }\n",
    "\n",
    "r1 = RandomForestRegressor(\n",
    "    n_estimators=100, random_state=10, criterion='absolute_error')\n",
    "r2 = RandomForestRegressor(n_estimators=10, random_state=1)\n",
    "\n",
    "vr = VotingRegressor([('rf', r1), ('et', r2)])\n",
    "\n",
    "hist_regresor = RandomForestRegressor()\n",
    "regr_trans = TransformedTargetRegressor(regressor=vr, transformer=QuantileTransformer(output_distribution='normal'))\n",
    "\n",
    "regr_trans.fit(X_train, Y_train)\n",
    "hist_reg_predictions = regr_trans.predict(val_x)"
   ]
  },
  {
   "cell_type": "code",
   "execution_count": 60,
   "metadata": {},
   "outputs": [
    {
     "data": {
      "text/plain": [
       "0.7723349981065627"
      ]
     },
     "execution_count": 60,
     "metadata": {},
     "output_type": "execute_result"
    }
   ],
   "source": [
    "get_ev_score(val_y, hist_reg_predictions)"
   ]
  },
  {
   "cell_type": "markdown",
   "metadata": {},
   "source": [
    "## Most effective regressior identified (Voting regressor with 2 random forests)"
   ]
  },
  {
   "cell_type": "code",
   "execution_count": 61,
   "metadata": {},
   "outputs": [
    {
     "data": {
      "text/html": [
       "<div>\n",
       "<style scoped>\n",
       "    .dataframe tbody tr th:only-of-type {\n",
       "        vertical-align: middle;\n",
       "    }\n",
       "\n",
       "    .dataframe tbody tr th {\n",
       "        vertical-align: top;\n",
       "    }\n",
       "\n",
       "    .dataframe thead th {\n",
       "        text-align: right;\n",
       "    }\n",
       "</style>\n",
       "<table border=\"1\" class=\"dataframe\">\n",
       "  <thead>\n",
       "    <tr style=\"text-align: right;\">\n",
       "      <th></th>\n",
       "      <th>ID</th>\n",
       "      <th>WeeklySales</th>\n",
       "    </tr>\n",
       "  </thead>\n",
       "  <tbody>\n",
       "    <tr>\n",
       "      <th>0</th>\n",
       "      <td>category_1_43738_w4</td>\n",
       "      <td>19</td>\n",
       "    </tr>\n",
       "    <tr>\n",
       "      <th>1</th>\n",
       "      <td>category_2_1006090_w1</td>\n",
       "      <td>17</td>\n",
       "    </tr>\n",
       "    <tr>\n",
       "      <th>2</th>\n",
       "      <td>category_2_1076929_w4</td>\n",
       "      <td>6</td>\n",
       "    </tr>\n",
       "    <tr>\n",
       "      <th>3</th>\n",
       "      <td>category_1_1081321_w3</td>\n",
       "      <td>9</td>\n",
       "    </tr>\n",
       "    <tr>\n",
       "      <th>4</th>\n",
       "      <td>category_2_216151_w4</td>\n",
       "      <td>14</td>\n",
       "    </tr>\n",
       "  </tbody>\n",
       "</table>\n",
       "</div>"
      ],
      "text/plain": [
       "                      ID  WeeklySales\n",
       "0    category_1_43738_w4           19\n",
       "1  category_2_1006090_w1           17\n",
       "2  category_2_1076929_w4            6\n",
       "3  category_1_1081321_w3            9\n",
       "4   category_2_216151_w4           14"
      ]
     },
     "execution_count": 61,
     "metadata": {},
     "output_type": "execute_result"
    }
   ],
   "source": [
    "test_data = pd.read_csv(r'../datasets/test_data.csv')\n",
    "test_data['PredictedSales'] = regr_trans.predict(test_x)\n",
    "test_data['PredictedSales'] = test_data['PredictedSales'].apply(lambda val: round(val))\n",
    "test_data['ItemCode'] = test_data['ItemCode'].apply(lambda val: str(val))\n",
    "\n",
    "submission_df = pd.DataFrame()\n",
    "submission_df['ID'] = test_data[['CategoryCode', 'ItemCode', 'Week']].agg(lambda x: '_'.join(x.values), axis=1)\n",
    "submission_df['WeeklySales'] = test_data['PredictedSales']\n",
    "submission_df.head()"
   ]
  },
  {
   "cell_type": "code",
   "execution_count": 62,
   "metadata": {},
   "outputs": [],
   "source": [
    "submission_df.to_csv('../results/test_predictions.csv', index=False)"
   ]
  },
  {
   "cell_type": "code",
   "execution_count": null,
   "metadata": {},
   "outputs": [],
   "source": []
  }
 ],
 "metadata": {
  "interpreter": {
   "hash": "8865bbb7b249b64c458800eab5f4318299a425b2b11c1edd5bbc846d53c3f78a"
  },
  "kernelspec": {
   "display_name": "Python 3.8.10 ('.venv': venv)",
   "language": "python",
   "name": "python3"
  },
  "language_info": {
   "codemirror_mode": {
    "name": "ipython",
    "version": 3
   },
   "file_extension": ".py",
   "mimetype": "text/x-python",
   "name": "python",
   "nbconvert_exporter": "python",
   "pygments_lexer": "ipython3",
   "version": "3.8.10"
  },
  "orig_nbformat": 4
 },
 "nbformat": 4,
 "nbformat_minor": 2
}
